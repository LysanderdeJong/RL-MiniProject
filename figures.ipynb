{
 "cells": [
  {
   "cell_type": "code",
   "execution_count": 4,
   "id": "4fe79627",
   "metadata": {},
   "outputs": [],
   "source": [
    "from qlearning import EpsilonGreedyPolicy, update, q_learning"
   ]
  },
  {
   "cell_type": "code",
   "execution_count": null,
   "id": "fe959d7e",
   "metadata": {},
   "outputs": [],
   "source": []
  }
 ],
 "metadata": {
  "kernelspec": {
   "display_name": "Python [conda env:rlcourse] *",
   "language": "python",
   "name": "conda-env-rlcourse-py"
  },
  "language_info": {
   "codemirror_mode": {
    "name": "ipython",
    "version": 3
   },
   "file_extension": ".py",
   "mimetype": "text/x-python",
   "name": "python",
   "nbconvert_exporter": "python",
   "pygments_lexer": "ipython3",
   "version": "3.7.3"
  }
 },
 "nbformat": 4,
 "nbformat_minor": 5
}
